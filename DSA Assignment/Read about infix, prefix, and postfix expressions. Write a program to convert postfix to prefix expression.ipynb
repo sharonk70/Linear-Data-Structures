{
 "cells": [
  {
   "cell_type": "code",
   "execution_count": 3,
   "id": "2f45c622",
   "metadata": {},
   "outputs": [
    {
     "name": "stdout",
     "output_type": "stream",
     "text": [
      "ABC/-AK/L-*\n"
     ]
    }
   ],
   "source": [
    "s = \"*-A/BC-/AKL\"\n",
    " \n",
    "\n",
    "stack = []\n",
    " \n",
    "operators = set(['+', '-', '*', '/', '^'])\n",
    " \n",
    "\n",
    "s = s[::-1]\n",
    " \n",
    "\n",
    "for i in s:\n",
    " \n",
    "    \n",
    "    if i in operators:\n",
    " \n",
    "        \n",
    "        a = stack.pop()\n",
    "        b = stack.pop()\n",
    " \n",
    "       \n",
    "        temp = a+b+i\n",
    "        stack.append(temp)\n",
    " \n",
    "    \n",
    "    else:\n",
    "        stack.append(i)\n",
    " \n",
    "\n",
    "print(*stack)"
   ]
  },
  {
   "cell_type": "code",
   "execution_count": null,
   "id": "17fbe51c",
   "metadata": {},
   "outputs": [],
   "source": []
  }
 ],
 "metadata": {
  "kernelspec": {
   "display_name": "Python 3",
   "language": "python",
   "name": "python3"
  },
  "language_info": {
   "codemirror_mode": {
    "name": "ipython",
    "version": 3
   },
   "file_extension": ".py",
   "mimetype": "text/x-python",
   "name": "python",
   "nbconvert_exporter": "python",
   "pygments_lexer": "ipython3",
   "version": "3.8.8"
  }
 },
 "nbformat": 4,
 "nbformat_minor": 5
}
