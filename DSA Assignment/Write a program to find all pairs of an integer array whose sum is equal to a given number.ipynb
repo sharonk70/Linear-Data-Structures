{
 "cells": [
  {
   "cell_type": "code",
   "execution_count": 15,
   "id": "2d851904",
   "metadata": {},
   "outputs": [
    {
     "name": "stdout",
     "output_type": "stream",
     "text": [
      "Count of pairs is 0\n"
     ]
    }
   ],
   "source": [
    "def Pair(arr, n, sum):\n",
    "    count = 0  \n",
    "    for i in range(0, n):\n",
    "        for j in range(i + 1, n):\n",
    "            if arr[i] + arr[j] == sum:\n",
    "                count += 1\n",
    " \n",
    "    return count\n",
    " \n",
    " \n",
    "arr = [2, 10, 7, 8, 5]\n",
    "n = len(arr)\n",
    "sum = 8\n",
    "print(\"Count of pairs is\",\n",
    "      Pair(arr, n, sum))"
   ]
  },
  {
   "cell_type": "code",
   "execution_count": null,
   "id": "0723b1f2",
   "metadata": {},
   "outputs": [],
   "source": []
  }
 ],
 "metadata": {
  "kernelspec": {
   "display_name": "Python 3",
   "language": "python",
   "name": "python3"
  },
  "language_info": {
   "codemirror_mode": {
    "name": "ipython",
    "version": 3
   },
   "file_extension": ".py",
   "mimetype": "text/x-python",
   "name": "python",
   "nbconvert_exporter": "python",
   "pygments_lexer": "ipython3",
   "version": "3.8.8"
  }
 },
 "nbformat": 4,
 "nbformat_minor": 5
}
